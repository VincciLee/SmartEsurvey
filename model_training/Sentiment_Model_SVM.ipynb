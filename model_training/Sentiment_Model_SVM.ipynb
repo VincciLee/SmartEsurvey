{
 "cells": [
  {
   "cell_type": "code",
   "execution_count": 68,
   "metadata": {},
   "outputs": [],
   "source": [
    "# Programmer Name: Ms Lee Wen Xi, APD3F2211CS(IS)\n",
    "# Program Name: Sentiment_Model_SVM.ipynb\n",
    "# Description: A script to train the sentiment prediction model withn SVM\n",
    "# First Written On: 26/05/2023\n",
    "# Last Edited On:  22/07/2023"
   ]
  },
  {
   "cell_type": "code",
   "execution_count": 10,
   "metadata": {},
   "outputs": [],
   "source": [
    "import pandas as pd\n",
    "import matplotlib.pyplot as plt\n",
    "from sklearn.feature_extraction.text import TfidfVectorizer\n",
    "import time\n",
    "from sklearn import svm\n",
    "from sklearn.model_selection import train_test_split\n",
    "from sklearn.metrics import classification_report, confusion_matrix, ConfusionMatrixDisplay\n",
    "import nltk\n",
    "from nltk.tokenize import word_tokenize\n",
    "nltk.download('stopwords')\n",
    "from nltk.corpus import stopwords\n",
    "import joblib\n",
    "import re\n",
    "import string"
   ]
  },
  {
   "cell_type": "code",
   "execution_count": 2,
   "metadata": {},
   "outputs": [
    {
     "name": "stdout",
     "output_type": "stream",
     "text": [
      "['to', 'at', 'my', 'if', 'most', 'will', 'is', 'an', \"should've\", 'into', 'do', 'few', 'same', 'of', 'being', 'we', \"it's\", 'where', 'but', 'for', 'with', 'm', 'between', 'and', 'only', 'just', 'when', 'its', 'they', 'had', 'very', 'too', 'below', \"that'll\", 'during', 'each', 's', 'does', 'these', 'off', 'against', 'll', 'why', 'his', 'him', 'himself', 'how', 'am', 'here', 'ourselves', 'after', 'about', 'the', 're', \"you'd\", 'because', 'further', 'as', 'than', 'from', 'again', 'so', \"you've\", 'that', 'until', 'yourselves', 'under', 'through', 'her', 'it', 'down', 'were', 'before', 'them', 'o', 'themselves', 'you', 'yourself', 'he', \"you'll\", 'over', 't', 'more', 'such', 'theirs', 'been', 'those', 'own', 'whom', 'some', 'has', \"she's\", 'yours', 'then', 'above', 'i', 'doing', 'she', 'did', 'this', 'what', 'now', 'y', 'in', 'ma', 'all', 'ours', 'hers', 'a', 'which', 'on', 'any', 'who', 'both', \"you're\", 'once', 'me', 'should', 'can', 'other', 'by', 'herself', 'having', 'there', 'd', 'have', 'myself', 'their', 'itself', 'be', 'our', 'are', 'or', 'up', 'out', 'your', 'while', 've', 'was']\n"
     ]
    }
   ],
   "source": [
    "# Preprocessing\n",
    "nltk_stop_words = set(stopwords.words('english'))\n",
    "punc = list(string.punctuation) + list('‘’')\n",
    "stop_words = []\n",
    "\n",
    "# Negation Lexicon\n",
    "negations = ['aint', 'doesnt', 'havent', 'lacks', 'none', 'mightnt', 'shouldnt', 'cannot', 'dont', 'havnt', 'neither', 'nor', 'mustnt', 'wasnt', 'cant', 'hadnt', 'isnt', 'never', 'not', 'neednt', 'without', 'darent' 'hardly', 'lack', 'no', 'nothing', 'oughtnt', 'wouldnt', 'didnt', 'hasnt', 'lacking', 'nobody', 'nowhere', 'shant', 'ain', 'doesn', 'haven', 'mightn', 'shouldn', 'havn', 'mustn', 'wasn', 'hadn', 'isn', 'needn', 'oughtn', 'wouldn', 'didn', 'hasn', 'shan', 'couldn', 'won', 'don', 'aren', 'arent', 'weren', 'werent' 'against']\n",
    "rneg = r\"[A-Za-z]{1,}n't\\b\"\n",
    "\n",
    "# Remove the negation from the nltk stop words\n",
    "for w in nltk_stop_words:\n",
    "    if not w in negations and not re.match(rneg, w):\n",
    "        stop_words.append(w)\n",
    "\n",
    "# remove emojis and chinese characters\n",
    "def remove_emojis(data):\n",
    "    emoj = re.compile(\"[\"\n",
    "        u\"\\U0001F600-\\U0001F64F\"  # emoticons\n",
    "        u\"\\U0001F300-\\U0001F5FF\"  # symbols & pictographs\n",
    "        u\"\\U0001F680-\\U0001F6FF\"  # transport & map symbols\n",
    "        u\"\\U0001F1E0-\\U0001F1FF\"  # flags (iOS)\n",
    "        u\"\\U00002500-\\U00002BEF\"  # chinese char\n",
    "        u\"\\U00002702-\\U000027B0\"\n",
    "        u\"\\U00002702-\\U000027B0\"\n",
    "        u\"\\U000024C2-\\U0001F251\"\n",
    "        u\"\\U0001f926-\\U0001f937\"\n",
    "        u\"\\U00010000-\\U0010ffff\"\n",
    "        u\"\\u2640-\\u2642\" \n",
    "        u\"\\u2600-\\u2B55\"\n",
    "        u\"\\u200d\"\n",
    "        u\"\\u23cf\"\n",
    "        u\"\\u23e9\"\n",
    "        u\"\\u231a\"\n",
    "        u\"\\ufe0f\"  # dingbats\n",
    "        u\"\\u3030\"\n",
    "                      \"]+\", re.UNICODE)\n",
    "    return re.sub(emoj, '', data)\n",
    "\n",
    "# remove noises such as tags, URLs and emojis\n",
    "def remove_tags(string):\n",
    "    result = re.sub(r'@[A-Za-z0-9]{0,}(\\s|\\b)', '', string)   #remove @ tags\n",
    "    result = re.sub(r'#[A-Za-z0-9]{0,}(\\s|\\b)', '', result)   #remove # tags\n",
    "    result = re.sub(r'\\b((http|https):\\/\\/)[-a-zA-Z0-9@:%._\\\\+~#?&\\/\\/=]{0,}','',result)   #remove URLs\n",
    "    result = remove_emojis(result)    # remove emojis\n",
    "    result = result.lower()\n",
    "    \n",
    "    return result"
   ]
  },
  {
   "cell_type": "code",
   "execution_count": 3,
   "metadata": {},
   "outputs": [],
   "source": [
    "# Twitter Sentiment Dataset\n",
    "data = pd.read_csv('Datasets\\\\Twitter Sentiment Dataset\\\\Twitter_Data.csv')\n",
    "data = data.dropna()\n",
    "data = data.sample(frac = 1)\n",
    "\n",
    "data['clean_text'] = data['clean_text'].apply(lambda cw : remove_tags(cw)) \n",
    "data['clean_text'] = data['clean_text'].apply(lambda x: x.replace('\"', ''))\n",
    "data['clean_text'] = data['clean_text'].apply(lambda x: ' '.join([word for word in word_tokenize(x) if word not in (punc)]))\n",
    "data['clean_text'] = data['clean_text'].apply(lambda x: ' '.join([word for word in word_tokenize(x) if word not in (stop_words)]))\n",
    "data['clean_text'] = data['clean_text'].apply(lambda x: re.sub('\\W+',' ',x).strip())\n",
    "data['clean_text'] = data['clean_text'].str.strip()"
   ]
  },
  {
   "cell_type": "code",
   "execution_count": 4,
   "metadata": {},
   "outputs": [],
   "source": [
    "# Split into test and train data\n",
    "tweet = data['clean_text'].values\n",
    "labels = data['category'].astype('int').values\n",
    "train_sentences, test_sentences, train_labels, test_labels = train_test_split(tweet, labels, stratify = labels)\n",
    "\n",
    "# Create feature vectors\n",
    "vectorizer = TfidfVectorizer(min_df = 5,\n",
    "                             max_df = 0.8,\n",
    "                             sublinear_tf = True,\n",
    "                             use_idf = True)\n",
    "train_vectors = vectorizer.fit_transform(train_sentences)\n",
    "test_vectors = vectorizer.transform(test_sentences)"
   ]
  },
  {
   "cell_type": "code",
   "execution_count": 6,
   "metadata": {},
   "outputs": [],
   "source": [
    "# Perform classification with SVM\n",
    "classifier_linear = svm.SVC(kernel='linear')\n",
    "classifier_linear.fit(train_vectors, train_labels)\n",
    "prediction_linear = classifier_linear.predict(test_vectors)"
   ]
  },
  {
   "cell_type": "code",
   "execution_count": 22,
   "metadata": {},
   "outputs": [
    {
     "name": "stdout",
     "output_type": "stream",
     "text": [
      "positive:  {'precision': 0.9323290979129535, 'recall': 0.8977467751757737, 'f1-score': 0.9147111913357402, 'support': 18063}\n",
      "neutral:  {'precision': 0.8951687624090007, 'recall': 0.9799318988625662, 'f1-score': 0.9356344896759243, 'support': 13803}\n",
      "negative:  {'precision': 0.8807038834951456, 'recall': 0.8175059141601893, 'f1-score': 0.8479289595139334, 'support': 8877}\n"
     ]
    },
    {
     "data": {
      "image/png": "[encoded data removed]",
      "text/plain": [
       "<Figure size 640x480 with 2 Axes>"
      ]
     },
     "metadata": {},
     "output_type": "display_data"
    }
   ],
   "source": [
    "# results\n",
    "report = classification_report(test_labels, prediction_linear, output_dict=True)\n",
    "print('positive: ', report['1'])\n",
    "print('neutral: ', report['0'])\n",
    "print('negative: ', report['-1'])\n",
    "\n",
    "cm = confusion_matrix(test_labels, prediction_linear)\n",
    "disp = ConfusionMatrixDisplay(confusion_matrix=cm, display_labels=classifier_linear.classes_)\n",
    "disp.plot()\n",
    "plt.show()"
   ]
  },
  {
   "cell_type": "code",
   "execution_count": null,
   "metadata": {},
   "outputs": [],
   "source": [
    "# Export vectorizer and model\n",
    "joblib.dump(vectorizer, 'vectorizer.pkl')\n",
    "joblib.dump(classifier_linear, 'SVM_Sentiment.joblib')"
   ]
  }
 ],
 "metadata": {
  "kernelspec": {
   "display_name": "Python 3",
   "language": "python",
   "name": "python3"
  },
  "language_info": {
   "codemirror_mode": {
    "name": "ipython",
    "version": 3
   },
   "file_extension": ".py",
   "mimetype": "text/x-python",
   "name": "python",
   "nbconvert_exporter": "python",
   "pygments_lexer": "ipython3",
   "version": "3.10.11"
  },
  "orig_nbformat": 4
 },
 "nbformat": 4,
 "nbformat_minor": 2
}
